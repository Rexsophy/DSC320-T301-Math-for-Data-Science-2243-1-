{
 "cells": [
  {
   "cell_type": "markdown",
   "id": "3c1e14c6",
   "metadata": {},
   "source": [
    "#### Week 6 Exercise 6.2 Author: Rex Gayas Course & Section: DSC320-T301 Math for Data Science (2243-1) Date: 20 January 2024"
   ]
  },
  {
   "cell_type": "markdown",
   "id": "aa80b497",
   "metadata": {},
   "source": [
    "##### Solution for Exercise 1 on Data Normalization"
   ]
  },
  {
   "cell_type": "code",
   "execution_count": 31,
   "id": "a41f8da4",
   "metadata": {},
   "outputs": [
    {
     "name": "stdout",
     "output_type": "stream",
     "text": [
      "Original Vector: [1 3 7 9]\n",
      "Normalized Vector: [0.   0.25 0.75 1.  ]\n"
     ]
    }
   ],
   "source": [
    "import numpy as np\n",
    "\n",
    "def normalize_vector(vector):\n",
    "    \"\"\"\n",
    "    Normalizes a vector so all values are scaled to the range [0, 1].\n",
    "    \n",
    "    Args:\n",
    "    vector (numpy.array): A vector (array) of numerical data\n",
    "\n",
    "    Returns:\n",
    "    numpy.array: Normalized vector with values in the range [0, 1]\n",
    "    \"\"\"\n",
    "    min_val = np.min(vector)\n",
    "    max_val = np.max(vector)\n",
    "    \n",
    "    # Avoid division by zero if all vector elements are the same\n",
    "    if max_val - min_val == 0:\n",
    "        return np.zeros(vector.shape)\n",
    "    \n",
    "    normalized_vector = (vector - min_val) / (max_val - min_val)\n",
    "    return normalized_vector\n",
    "\n",
    "# Example using the normalization function\n",
    "vector_example = np.array([1, 3, 7, 9])\n",
    "normalized_vector = normalize_vector(vector_example)\n",
    "print(\"Original Vector:\", vector_example)\n",
    "print(\"Normalized Vector:\", normalized_vector)\n"
   ]
  },
  {
   "cell_type": "markdown",
   "id": "d8aa5643",
   "metadata": {},
   "source": [
    "Check using normalization formula:\n",
    "1: 1-1/9-1 = 0/8 = 0\n",
    "3: 3-1/9-1 = 2/8 = 0.25\n",
    "7: 7-1/9-1 = 6/8 = 0.75\n",
    "9: 9-1/9-1 = 8/8 = 1"
   ]
  },
  {
   "cell_type": "markdown",
   "id": "b9301de8",
   "metadata": {},
   "source": [
    "##### Solution for Exercise 2 on Data Standardization"
   ]
  },
  {
   "cell_type": "code",
   "execution_count": 32,
   "id": "e4ffa3d5",
   "metadata": {},
   "outputs": [
    {
     "name": "stdout",
     "output_type": "stream",
     "text": [
      "Original Vector: [1 3 7 9]\n",
      "Standardized Vector: [-1.26491106 -0.63245553  0.63245553  1.26491106]\n"
     ]
    }
   ],
   "source": [
    "def standardize_vector(vector):\n",
    "    \"\"\"\n",
    "    Standardizes a vector by calculating the z-score for each element.\n",
    "\n",
    "    Args:\n",
    "    vector (numpy.array): A vector (array) of numerical data\n",
    "\n",
    "    Returns:\n",
    "    numpy.array: Standardized vector\n",
    "    \"\"\"\n",
    "    mean = np.mean(vector)\n",
    "    std_dev = np.std(vector)\n",
    "    \n",
    "    # Avoid division by zero in case of a constant vector (std_dev is zero)\n",
    "    if std_dev == 0:\n",
    "        return np.zeros(vector.shape)\n",
    "    \n",
    "    standardized_vector = (vector - mean) / std_dev\n",
    "    return standardized_vector\n",
    "\n",
    "# Example using the standardized function\n",
    "vector_example = np.array([1, 3, 7, 9])\n",
    "standardized_vector = standardize_vector(vector_example)\n",
    "print(\"Original Vector:\", vector_example)\n",
    "print(\"Standardized Vector:\", standardized_vector)\n"
   ]
  },
  {
   "cell_type": "code",
   "execution_count": 33,
   "id": "2175bd64",
   "metadata": {},
   "outputs": [
    {
     "data": {
      "text/plain": [
       "(-1.2649110640673518,\n",
       " -0.6324555320336759,\n",
       " 0.6324555320336759,\n",
       " 1.2649110640673518)"
      ]
     },
     "execution_count": 33,
     "metadata": {},
     "output_type": "execute_result"
    }
   ],
   "source": [
    "# Check rational calculation for each element in the vector [1, 3, 7, 9]\n",
    "# Using the mean (5) and standard deviation (sqrt(10))\n",
    "\n",
    "mean = 5\n",
    "std_dev = np.sqrt(10)\n",
    "\n",
    "# Manual standardization calculations\n",
    "manual_1 = (1 - mean) / std_dev\n",
    "manual_3 = (3 - mean) / std_dev\n",
    "manual_7 = (7 - mean) / std_dev\n",
    "manual_9 = (9 - mean) / std_dev\n",
    "\n",
    "manual_1, manual_3, manual_7, manual_9\n"
   ]
  },
  {
   "cell_type": "markdown",
   "id": "bd39dece",
   "metadata": {},
   "source": [
    "#### Working with a Dataframe"
   ]
  },
  {
   "cell_type": "markdown",
   "id": "03d17da0",
   "metadata": {},
   "source": [
    "##### Solution for Exercise 3(a)"
   ]
  },
  {
   "cell_type": "code",
   "execution_count": 34,
   "id": "7458f760",
   "metadata": {},
   "outputs": [
    {
     "name": "stdout",
     "output_type": "stream",
     "text": [
      "Number of rows in the dataset: 20640\n"
     ]
    }
   ],
   "source": [
    "import pandas as pd\n",
    "\n",
    "# Load the dataset\n",
    "file_path = \"D:/ALPHA/Dynamic Folder/Bellevue/Winter 2023/Math for Data Science/Week 6/calif_housing_data.csv\"\n",
    "df = pd.read_csv(file_path)\n",
    "\n",
    "# Count the number of rows\n",
    "row_count = df.shape[0]\n",
    "\n",
    "print(\"Number of rows in the dataset:\", row_count)\n"
   ]
  },
  {
   "cell_type": "markdown",
   "id": "4a1802a1",
   "metadata": {},
   "source": [
    "##### Solution for Exercise 3(b)"
   ]
  },
  {
   "cell_type": "code",
   "execution_count": 35,
   "id": "c246dbda",
   "metadata": {},
   "outputs": [
    {
     "name": "stdout",
     "output_type": "stream",
     "text": [
      "Target Vector: 0    452600.0\n",
      "1    358500.0\n",
      "2    352100.0\n",
      "3    341300.0\n",
      "4    342200.0\n",
      "Name: median_house_value, dtype: float64\n"
     ]
    }
   ],
   "source": [
    "# Identify the target vector\n",
    "target_vector = df['median_house_value']\n",
    "print(\"Target Vector:\", target_vector.head())"
   ]
  },
  {
   "cell_type": "markdown",
   "id": "2f551fe5",
   "metadata": {},
   "source": [
    "##### Solution for Exercise 3(c)"
   ]
  },
  {
   "cell_type": "code",
   "execution_count": 36,
   "id": "a9642a20",
   "metadata": {},
   "outputs": [],
   "source": [
    "# Create a new feature (bedrooms per household)\n",
    "df['bedrooms_per_household'] = df['total_bedrooms'] / df['households']"
   ]
  },
  {
   "cell_type": "markdown",
   "id": "2b676df0",
   "metadata": {},
   "source": [
    "This feature calculates the mean number of bedrooms per household in a given block. It's a measure of the average household size in terms of bedrooms. A higher value might indicate larger homes with more bedrooms and vice versa."
   ]
  },
  {
   "cell_type": "markdown",
   "id": "b6418aa6",
   "metadata": {},
   "source": [
    "##### Solution for Exercise 3(d)"
   ]
  },
  {
   "cell_type": "code",
   "execution_count": 37,
   "id": "74e3085d",
   "metadata": {},
   "outputs": [
    {
     "name": "stdout",
     "output_type": "stream",
     "text": [
      "New DataFrame with selected features :\n",
      "   housing_median_age  median_income  bedrooms_per_household\n",
      "0                  41         8.3252                1.023810\n",
      "1                  21         8.3014                0.971880\n",
      "2                  52         7.2574                1.073446\n",
      "3                  52         5.6431                1.073059\n",
      "4                  52         3.8462                1.081081\n"
     ]
    }
   ],
   "source": [
    "# Create a new DataFrame with requested three features\n",
    "features_df = df[['housing_median_age', 'median_income', 'bedrooms_per_household']]\n",
    "\n",
    "# Check the first 5 rows of the new DataFrame to ensure it's correct\n",
    "print(\"New DataFrame with selected features :\")\n",
    "print(features_df.head())\n"
   ]
  },
  {
   "cell_type": "markdown",
   "id": "4649c398",
   "metadata": {},
   "source": [
    "##### Solution for Exercise 3(e)"
   ]
  },
  {
   "cell_type": "code",
   "execution_count": 38,
   "id": "d4487e35",
   "metadata": {},
   "outputs": [
    {
     "name": "stdout",
     "output_type": "stream",
     "text": [
      "Standardized Features :\n",
      "   housing_median_age  median_income  bedrooms_per_household\n",
      "0            0.982143       2.344766               -0.153863\n",
      "1           -0.607019       2.332238               -0.262936\n",
      "2            1.856182       1.782699               -0.049604\n",
      "3            1.856182       0.932968               -0.050417\n",
      "4            1.856182      -0.012881               -0.033568\n"
     ]
    }
   ],
   "source": [
    "# Standardize the features in the new DataFrame\n",
    "standardized_features = features_df.apply(standardize_vector, axis=0)\n",
    "\n",
    "# Show the first 5 rows of the standardized DataFrame\n",
    "print(\"Standardized Features :\")\n",
    "print(standardized_features.head())"
   ]
  }
 ],
 "metadata": {
  "kernelspec": {
   "display_name": "Python 3 (ipykernel)",
   "language": "python",
   "name": "python3"
  },
  "language_info": {
   "codemirror_mode": {
    "name": "ipython",
    "version": 3
   },
   "file_extension": ".py",
   "mimetype": "text/x-python",
   "name": "python",
   "nbconvert_exporter": "python",
   "pygments_lexer": "ipython3",
   "version": "3.9.13"
  }
 },
 "nbformat": 4,
 "nbformat_minor": 5
}
