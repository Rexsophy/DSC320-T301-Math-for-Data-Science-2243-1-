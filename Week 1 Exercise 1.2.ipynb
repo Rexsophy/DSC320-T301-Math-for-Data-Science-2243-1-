{
 "cells": [
  {
   "cell_type": "markdown",
   "id": "99a2d70b",
   "metadata": {},
   "source": [
    "#Week 1 Exercise 1.2\n",
    "Author: Rex Gayas\n",
    "Course & Section: DSC320-T301 Math for Data Science (2243-1)\n",
    "Date: 07 December 2023"
   ]
  },
  {
   "cell_type": "code",
   "execution_count": 1,
   "id": "9c3b70d6",
   "metadata": {},
   "outputs": [],
   "source": [
    "import numpy as np\n",
    "import pandas as pd\n"
   ]
  },
  {
   "cell_type": "code",
   "execution_count": 5,
   "id": "2597bbc3",
   "metadata": {},
   "outputs": [],
   "source": [
    "# Solution to 1a.\n",
    "def calculate_rmse(actual_values, predicted_values):\n",
    "    \"\"\"\n",
    "    Calculate the Root Mean Square Error (RMSE) between two arrays of actual and predicted values.\n",
    "\n",
    "    Parameters:\n",
    "    actual_values (numpy array): Array of actual values.\n",
    "    predicted_values (numpy array): Array of predicted values.\n",
    "\n",
    "    Returns:\n",
    "    float: The RMSE value.\n",
    "    \"\"\"\n",
    "\n",
    "    # Make sure the input arrays are of the same length\n",
    "    if len(actual_values) != len(predicted_values):\n",
    "        raise ValueError(\"Arrays must be of the same length\")\n",
    "\n",
    "    # Calculate the squared differences between actual and predicted values\n",
    "    square_diff = (actual_values - predicted_values) ** 2\n",
    "\n",
    "    # Compute the mean of these squared differences\n",
    "    mean_square_diff = np.mean(square_diff)\n",
    "\n",
    "    # Take the square root of the mean to get the RMSE\n",
    "    rmse = np.sqrt(mean_square_diff)\n",
    "\n",
    "    return rmse\n"
   ]
  },
  {
   "cell_type": "code",
   "execution_count": 8,
   "id": "a4188df2",
   "metadata": {},
   "outputs": [
    {
     "name": "stdout",
     "output_type": "stream",
     "text": [
      "RMSE for housing data: 55064.068833898666\n"
     ]
    }
   ],
   "source": [
    "# Solution to 1b.\n",
    "def process_housing_data(filepath):\n",
    "    \"\"\"\n",
    "    Load and process housing data.\n",
    "\n",
    "    Parameters:\n",
    "    filepath (str): Path to the housing data file.\n",
    "\n",
    "    Returns:\n",
    "    DataFrame: Processed housing data with 'saleprice' and 'salepricepred'.\n",
    "    \"\"\"\n",
    "    # Load data, name columns, and convert to numeric\n",
    "    data = pd.read_csv(filepath, header=None, names=['A', 'saleprice', 'salepricepred'])\n",
    "    data['saleprice'] = pd.to_numeric(data['saleprice'], errors='coerce')\n",
    "    data['salepricepred'] = pd.to_numeric(data['salepricepred'], errors='coerce')\n",
    "    return data[['saleprice', 'salepricepred']]\n",
    "\n",
    "# File path for the housing data\n",
    "path = 'D:\\\\ALPHA\\\\Dynamic Folder\\\\Bellevue\\\\Winter 2023\\\\Math for Data Science\\\\Week 1\\\\week1data\\\\week1data\\\\housing_data.csv'\n",
    "\n",
    "# Load, process, and calculate RMSE\n",
    "housing_data = process_housing_data(path)\n",
    "rmse = calculate_rmse(housing_data['saleprice'], housing_data['salepricepred'])\n",
    "\n",
    "print(\"RMSE for housing data:\", rmse)\n",
    "\n"
   ]
  },
  {
   "cell_type": "code",
   "execution_count": 9,
   "id": "5114ee48",
   "metadata": {
    "scrolled": true
   },
   "outputs": [],
   "source": [
    "# Solution to 2a\n",
    "def calculate_mae(actual, predicted):\n",
    "    \"\"\"\n",
    "    Calculate MAE between actual and predicted values.\n",
    "\n",
    "    Parameters:\n",
    "    actual (numpy array): Actual values.\n",
    "    predicted (numpy array): Predicted values.\n",
    "\n",
    "    Returns:\n",
    "    float: MAE value.\n",
    "    \"\"\"\n",
    "    # Validate array lengths\n",
    "    if len(actual) != len(predicted):\n",
    "        raise ValueError(\"Array lengths must match\")\n",
    "\n",
    "    # Calculate absolute differences and MAE\n",
    "    return np.mean(np.abs(actual - predicted))\n"
   ]
  },
  {
   "cell_type": "code",
   "execution_count": 10,
   "id": "957d375c",
   "metadata": {},
   "outputs": [
    {
     "name": "stdout",
     "output_type": "stream",
     "text": [
      "MAE for housing data: 37438.689162705436\n"
     ]
    }
   ],
   "source": [
    "# Solution 2b\n",
    "# Calculate MAE for the housing data\n",
    "mae = calculate_mae(housing_data['saleprice'], housing_data['salepricepred'])\n",
    "\n",
    "print(\"MAE for housing data:\", mae)\n"
   ]
  },
  {
   "cell_type": "code",
   "execution_count": 11,
   "id": "34202c59",
   "metadata": {},
   "outputs": [],
   "source": [
    "#Solution to 3a\n",
    "def calculate_accuracy(actual, predicted):\n",
    "    \"\"\"\n",
    "    Calculate accuracy between actual and predicted binary values.\n",
    "    \"\"\"\n",
    "    # Validate array lengths\n",
    "    if len(actual) != len(predicted):\n",
    "        raise ValueError(\"Array lengths must match\")\n",
    "\n",
    "    # Calculate and return accuracy\n",
    "    return np.mean(actual == predicted)\n"
   ]
  },
  {
   "cell_type": "code",
   "execution_count": 12,
   "id": "b323ce4f",
   "metadata": {},
   "outputs": [
    {
     "name": "stdout",
     "output_type": "stream",
     "text": [
      "Accuracy for mushroom data: 0.8471196454948301\n"
     ]
    }
   ],
   "source": [
    "#Solution to 3b\n",
    "def load_mushroom_data(filepath):\n",
    "    \"\"\"\n",
    "    Load mushroom data from a CSV file.\n",
    "    \"\"\"\n",
    "    # Load the data\n",
    "    data = pd.read_csv(filepath)\n",
    "\n",
    "    # Return 'actual' and 'predicted' columns\n",
    "    # Please replace 'actual' and 'predicted' with actual column names if different\n",
    "    return data[['actual', 'predicted']]\n",
    "\n",
    "# File path for the mushroom data\n",
    "mushroom_data_path = 'D:\\\\ALPHA\\\\Dynamic Folder\\\\Bellevue\\\\Winter 2023\\\\Math for Data Science\\\\Week 1\\\\week1data\\\\week1data\\\\mushroom_data.csv'\n",
    "\n",
    "# Load the mushroom data\n",
    "mushroom_data = load_mushroom_data(mushroom_data_path)\n",
    "\n",
    "# Calculate accuracy\n",
    "accuracy = calculate_accuracy(mushroom_data['actual'], mushroom_data['predicted'])\n",
    "\n",
    "print(\"Accuracy for mushroom data:\", accuracy)\n"
   ]
  },
  {
   "cell_type": "code",
   "execution_count": 13,
   "id": "d55b132a",
   "metadata": {},
   "outputs": [
    {
     "data": {
      "image/png": "[encoded data removed]",
      "text/plain": [
       "<Figure size 640x480 with 1 Axes>"
      ]
     },
     "metadata": {},
     "output_type": "display_data"
    }
   ],
   "source": [
    "#Solution to 4a\n",
    "import matplotlib.pyplot as plt\n",
    "import numpy as np\n",
    "\n",
    "# Define the function\n",
    "def f(p):\n",
    "    return 0.005 * p**6 - 0.27 * p**5 + 5.998 * p**4 - 69.919 * p**3 + 449.17 * p**2 - 1499.7 * p + 2028\n",
    "\n",
    "# Define a range for p\n",
    "p = np.linspace(-10, 10, 1000)\n",
    "\n",
    "# Calculate f(p) for each value of p\n",
    "f_p = f(p)\n",
    "\n",
    "# Plotting\n",
    "plt.plot(p, f_p)\n",
    "plt.xlabel('p')\n",
    "plt.ylabel('f(p)')\n",
    "plt.title('Function Plot')\n",
    "plt.grid(True)\n",
    "plt.show()\n"
   ]
  },
  {
   "cell_type": "code",
   "execution_count": 17,
   "id": "226260da",
   "metadata": {},
   "outputs": [
    {
     "name": "stdout",
     "output_type": "stream",
     "text": [
      "Estimated minimum error at p = 2 is 353.576\n"
     ]
    }
   ],
   "source": [
    "# Solutions to 4b & 4c\n",
    "\n",
    "# Define the function f(p)\n",
    "def f(p):\n",
    "    return 0.005 * p**6 - 0.27 * p**5 + 5.998 * p**4 - 69.919 * p**3 + 449.17 * p**2 - 1499.7 * p + 2028\n",
    "\n",
    "# Estimating the minimum point based on the plot\n",
    "p_min_estimate = 2\n",
    "\n",
    "# Calculating the error at the estimated minimum point\n",
    "error_min_estimate = f(p_min_estimate)\n",
    "\n",
    "print(\"Estimated minimum error at p =\", p_min_estimate, \"is\", error_min_estimate)\n",
    "\n"
   ]
  },
  {
   "cell_type": "code",
   "execution_count": null,
   "id": "c1326efe",
   "metadata": {},
   "outputs": [],
   "source": []
  },
  {
   "cell_type": "code",
   "execution_count": null,
   "id": "7d040976",
   "metadata": {},
   "outputs": [],
   "source": []
  }
 ],
 "metadata": {
  "kernelspec": {
   "display_name": "Python 3 (ipykernel)",
   "language": "python",
   "name": "python3"
  },
  "language_info": {
   "codemirror_mode": {
    "name": "ipython",
    "version": 3
   },
   "file_extension": ".py",
   "mimetype": "text/x-python",
   "name": "python",
   "nbconvert_exporter": "python",
   "pygments_lexer": "ipython3",
   "version": "3.9.13"
  }
 },
 "nbformat": 4,
 "nbformat_minor": 5
}
