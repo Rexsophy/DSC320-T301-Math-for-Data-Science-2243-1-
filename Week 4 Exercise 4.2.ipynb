{
 "cells": [
  {
   "cell_type": "markdown",
   "id": "01be245c",
   "metadata": {},
   "source": [
    "## Week 4 Exercise 4.2 Author: Rex Gayas Course & Section: DSC320-T301 Math for Data Science (2243-1) Date: 07 January 2024"
   ]
  },
  {
   "cell_type": "markdown",
   "id": "e558c637",
   "metadata": {},
   "source": [
    "### Calculating Limits Numerically"
   ]
  },
  {
   "cell_type": "code",
   "execution_count": 52,
   "id": "bffaa612",
   "metadata": {},
   "outputs": [
    {
     "data": {
      "text/plain": [
       "(array([2.9 , 2.91, 2.92, 2.93, 2.94, 2.95, 2.96, 2.97, 2.98, 2.99, 3.  ]),\n",
       " [38.178,\n",
       "  38.64434199999999,\n",
       "  39.11417599999997,\n",
       "  39.58751399999996,\n",
       "  40.06436799999995,\n",
       "  40.544749999999944,\n",
       "  41.02867199999993,\n",
       "  41.51614599999992,\n",
       "  42.00718399999991,\n",
       "  42.5017979999999,\n",
       "  42.999999999999886],\n",
       " array([3.  , 3.01, 3.02, 3.03, 3.04, 3.05, 3.06, 3.07, 3.08, 3.09, 3.1 ]),\n",
       " [43.0,\n",
       "  43.50180199999999,\n",
       "  44.00721599999998,\n",
       "  44.51625399999997,\n",
       "  45.02892799999996,\n",
       "  45.545249999999946,\n",
       "  46.06523199999993,\n",
       "  46.588885999999924,\n",
       "  47.11622399999991,\n",
       "  47.6472579999999,\n",
       "  48.18199999999989])"
      ]
     },
     "execution_count": 52,
     "metadata": {},
     "output_type": "execute_result"
    }
   ],
   "source": [
    "#Solution to (a)\n",
    "\n",
    "import numpy as np\n",
    "\n",
    "def f(x):\n",
    "    return 2*x**3 - 4*x + 1\n",
    "\n",
    "def calculate_limit_approaching_x(func, target_x, delta):\n",
    "    # Values approaching target_x from left and right\n",
    "    values_left = np.arange(target_x - delta, target_x, delta / 10)\n",
    "    values_right = np.arange(target_x, target_x + delta, delta / 10)\n",
    "\n",
    "    # Evaluating the function for these values\n",
    "    results_left = [func(x) for x in values_left]\n",
    "    results_right = [func(x) for x in values_right]\n",
    "\n",
    "    return values_left, results_left, values_right, results_right\n",
    "\n",
    "# Calculate the limit of f(x) as x approaches 3\n",
    "target_x = 3\n",
    "delta = 0.1\n",
    "values_left, results_left, values_right, results_right = calculate_limit_approaching_x(f, target_x, delta)\n",
    "\n",
    "(values_left, results_left, values_right, results_right)\n"
   ]
  },
  {
   "cell_type": "markdown",
   "id": "8ebb3e20",
   "metadata": {},
   "source": [
    "As x approaches 3 from both sides, the value of f(x) approaches 43 which suggests that the limit of f(x) as x approaches 3 is 43. "
   ]
  },
  {
   "cell_type": "code",
   "execution_count": 53,
   "id": "4186965c",
   "metadata": {},
   "outputs": [
    {
     "data": {
      "text/plain": [
       "(array([-0.1 , -0.09, -0.08, -0.07, -0.06, -0.05, -0.04, -0.03, -0.02,\n",
       "        -0.01]),\n",
       " [0.9516258196404048,\n",
       "  0.9563201636530201,\n",
       "  0.9610456701670529,\n",
       "  0.9658025727721689,\n",
       "  0.9705911069291876,\n",
       "  0.9754115099857191,\n",
       "  0.9802640211919197,\n",
       "  0.9851488817163935,\n",
       "  0.9900663346622351,\n",
       "  0.9950166250831954],\n",
       " array([0.  , 0.01, 0.02, 0.03, 0.04, 0.05, 0.06, 0.07, 0.08, 0.09]),\n",
       " [inf,\n",
       "  1.005016708416795,\n",
       "  1.0100670013377888,\n",
       "  1.015151131783898,\n",
       "  1.0202693548097053,\n",
       "  1.0254219275204823,\n",
       "  1.0306091090893275,\n",
       "  1.0358311607745219,\n",
       "  1.0410883459369829,\n",
       "  1.0463809300578935])"
      ]
     },
     "execution_count": 53,
     "metadata": {},
     "output_type": "execute_result"
    }
   ],
   "source": [
    "# Solution to (b)\n",
    "\n",
    "def g(x):\n",
    "    # Consideration of undefined value when x is 0 to avoid division by zero\n",
    "    if x == 0:\n",
    "        return float('inf')\n",
    "    return (np.exp(x) - 1) / x\n",
    "\n",
    "# Calculate the limit of g(x) as x approaches 0\n",
    "target_x = 0\n",
    "values_left, results_left, values_right, results_right = calculate_limit_approaching_x(g, target_x, delta)\n",
    "\n",
    "(values_left, results_left, values_right, results_right)\n"
   ]
  },
  {
   "cell_type": "markdown",
   "id": "73d3c4ee",
   "metadata": {},
   "source": [
    "As x approaches 0 from both sides, the value of g(x) approaches 1 which suggests that the limit of g(x) as x approaches 0 is 1."
   ]
  },
  {
   "cell_type": "markdown",
   "id": "b86e09f5",
   "metadata": {},
   "source": [
    "#### Solution to (c)\n",
    "For the polynomial function in (a), it is continues in all values as per definition. This allows directly plugging in the value of x where the limit is taken. Plugging in x = 3 for f(x) will result in 43 which is the same as the determined limit.\n",
    "For the function in (b), Directly plugging in x = 0 leads to an undefined expression which implies that g(x) has a removable discontinuity at x = 0. "
   ]
  },
  {
   "cell_type": "markdown",
   "id": "0275fa1c",
   "metadata": {},
   "source": [
    "### Average Rate of Change"
   ]
  },
  {
   "cell_type": "code",
   "execution_count": 54,
   "id": "515381f5",
   "metadata": {},
   "outputs": [
    {
     "data": {
      "text/plain": [
       "9.0"
      ]
     },
     "execution_count": 54,
     "metadata": {},
     "output_type": "execute_result"
    }
   ],
   "source": [
    "def average_rate_of_change(f, a, b):\n",
    "    \"\"\"\n",
    "    Calculate the average rate of change of the function f between points a and b.\n",
    "\n",
    "    :param f: A function to calculate the average rate of change for.\n",
    "    :param a: The starting point of the interval.\n",
    "    :param b: The ending point of the interval.\n",
    "    :return: The average rate of change of f from a to b.\n",
    "    \"\"\"\n",
    "    # Check a and b are not the same to avoid division by zero\n",
    "    if a == b:\n",
    "        return float('inf')\n",
    "\n",
    "    return (f(b) - f(a)) / (b - a)\n",
    "\n",
    "# Sample function as provided in assignment\n",
    "def example_function(x):\n",
    "    return 3*x**2 \n",
    "\n",
    "# Calculate the average rate of change for the example function between 1 and 2\n",
    "arc_example = average_rate_of_change(example_function, 1, 2)\n",
    "arc_example\n"
   ]
  },
  {
   "cell_type": "markdown",
   "id": "72b2fb94",
   "metadata": {},
   "source": [
    "The average rate of change of f(x) between the points 1 and 2 is 9.0 "
   ]
  },
  {
   "cell_type": "markdown",
   "id": "b4bca7b3",
   "metadata": {},
   "source": [
    "### Average Rate of Change to Instantaneous Rate of Change"
   ]
  },
  {
   "cell_type": "code",
   "execution_count": 55,
   "id": "b6684380",
   "metadata": {},
   "outputs": [
    {
     "data": {
      "text/plain": [
       "53.89999999999999"
      ]
     },
     "execution_count": 55,
     "metadata": {},
     "output_type": "execute_result"
    }
   ],
   "source": [
    "# Solution for (a)\n",
    "\n",
    "# Define the function f(t) = 4.9t^2 for the baseball's distance\n",
    "def baseball_distance(t):\n",
    "    return 4.9 * t**2\n",
    "\n",
    "# Average rate of change between 5 and 6 seconds \n",
    "arc_5_to_6 = average_rate_of_change(baseball_distance, 5, 6)\n",
    "\n",
    "arc_5_to_6\n",
    "\n"
   ]
  },
  {
   "cell_type": "code",
   "execution_count": 56,
   "id": "3d8bfa03",
   "metadata": {},
   "outputs": [
    {
     "data": {
      "text/plain": [
       "51.45000000000002"
      ]
     },
     "execution_count": 56,
     "metadata": {},
     "output_type": "execute_result"
    }
   ],
   "source": [
    "# Solution for (b)\n",
    "\n",
    "# Average rate of change between 5 and 5.5 seconds \n",
    "arc_5_to_5_5 = average_rate_of_change(baseball_distance, 5, 5.5)\n",
    "\n",
    "arc_5_to_5_5\n"
   ]
  },
  {
   "cell_type": "code",
   "execution_count": 57,
   "id": "ba539512",
   "metadata": {},
   "outputs": [
    {
     "data": {
      "text/plain": [
       "49.490000000000016"
      ]
     },
     "execution_count": 57,
     "metadata": {},
     "output_type": "execute_result"
    }
   ],
   "source": [
    "# Solution for (c)\n",
    "\n",
    "# Average rate of change between 5 and 5.1 seconds \n",
    "arc_5_to_5_1 = average_rate_of_change(baseball_distance, 5, 5.1)\n",
    "\n",
    "arc_5_to_5_1\n"
   ]
  },
  {
   "cell_type": "code",
   "execution_count": 58,
   "id": "c0e4ccec",
   "metadata": {},
   "outputs": [
    {
     "data": {
      "text/plain": [
       "(49.24499999999984, 49.12249999999959)"
      ]
     },
     "execution_count": 58,
     "metadata": {},
     "output_type": "execute_result"
    }
   ],
   "source": [
    "# Solution for (d)\n",
    "\n",
    "# Average rate of change between 5 and 5.05 seconds \n",
    "arc_5_to_5_05 = average_rate_of_change(baseball_distance, 5, 5.05)\n",
    "\n",
    "\n",
    "\n",
    "# Average rate of change between 5 and 5.05 seconds \n",
    "arc_5_to_5_025 = average_rate_of_change(baseball_distance, 5, 5.025)\n",
    "\n",
    "(arc_5_to_5_05, arc_5_to_5_025)\n"
   ]
  },
  {
   "cell_type": "markdown",
   "id": "96f1dec3",
   "metadata": {},
   "source": [
    "As the difference of the initial and final t's decreases, the average rate of change is approaching 49.0"
   ]
  },
  {
   "cell_type": "markdown",
   "id": "27e5dc79",
   "metadata": {},
   "source": [
    "#### Solution for (e)\n",
    "\n",
    "The derivative of f(t) = 4.9t^2 is f'(t) = 9.8t."
   ]
  },
  {
   "cell_type": "code",
   "execution_count": 59,
   "id": "d6648157",
   "metadata": {},
   "outputs": [
    {
     "data": {
      "text/plain": [
       "49.0"
      ]
     },
     "execution_count": 59,
     "metadata": {},
     "output_type": "execute_result"
    }
   ],
   "source": [
    "# Solution for (f)\n",
    "\n",
    "# Instantaneous speed at t = 5 seconds (Part d), using the derivative f'(t) = 9.8t\n",
    "instantaneous_speed_t_5 = instantaneous_rate_of_change_f(5)\n",
    "\n",
    "instantaneous_speed_t_5\n"
   ]
  },
  {
   "cell_type": "markdown",
   "id": "40a5502c",
   "metadata": {},
   "source": [
    "This is the same as the value for (d) and this equality aligns with the theoretical expectation for the instantaneous rate of change at t=5 seconds. Hence, this shows the concept of a derivative as the limit of the average rate of change as the interval approaches zero."
   ]
  },
  {
   "cell_type": "markdown",
   "id": "b65bf04c",
   "metadata": {},
   "source": [
    "### Calculating and Interpreting Partial Derivatives"
   ]
  },
  {
   "cell_type": "code",
   "execution_count": 60,
   "id": "339ebac9",
   "metadata": {},
   "outputs": [
    {
     "name": "stdout",
     "output_type": "stream",
     "text": [
      "26200\n"
     ]
    }
   ],
   "source": [
    "# Constants for the linear model\n",
    "base_price = 16000\n",
    "condition_coefficient = 2400\n",
    "age_coefficient = -1800\n",
    "\n",
    "# Solution for (a)\n",
    "# Predicted selling price for a 5-year old car with a condition rating of 8\n",
    "condition_rating = 8\n",
    "car_age = 5\n",
    "\n",
    "predicted_price = base_price + condition_coefficient * condition_rating + age_coefficient * car_age\n",
    "\n",
    "print(predicted_price)"
   ]
  },
  {
   "cell_type": "code",
   "execution_count": 61,
   "id": "73747b35",
   "metadata": {},
   "outputs": [
    {
     "name": "stdout",
     "output_type": "stream",
     "text": [
      "2400\n"
     ]
    }
   ],
   "source": [
    "# Solution for (b)\n",
    "\n",
    "# Calculating the partial derivatives vis condition\n",
    "partial_derivative_condition = condition_coefficient\n",
    " \n",
    "print(partial_derivative_condition)\n"
   ]
  },
  {
   "cell_type": "markdown",
   "id": "3cd30526",
   "metadata": {},
   "source": [
    "This value indicates the rate of change of the selling price with respect to the condition rating. For each unit increase in the condition rating, the selling price increases by $2,400, keeping the car's age constant."
   ]
  },
  {
   "cell_type": "code",
   "execution_count": 62,
   "id": "f5cfe2ce",
   "metadata": {},
   "outputs": [
    {
     "name": "stdout",
     "output_type": "stream",
     "text": [
      "-1800\n"
     ]
    }
   ],
   "source": [
    "# Solution for (c)\n",
    "\n",
    "# Calculating the partial derivatives vis age\n",
    "partial_derivative_age = age_coefficient\n",
    "\n",
    "print(partial_derivative_age)\n"
   ]
  },
  {
   "cell_type": "markdown",
   "id": "5d455e02",
   "metadata": {},
   "source": [
    "This value signifies the rate of change of the selling price with respect to the car's age. For each additional year in the age of the car, the selling price decreases by $1,800, keeping the car's condition rating constant."
   ]
  }
 ],
 "metadata": {
  "kernelspec": {
   "display_name": "Python 3 (ipykernel)",
   "language": "python",
   "name": "python3"
  },
  "language_info": {
   "codemirror_mode": {
    "name": "ipython",
    "version": 3
   },
   "file_extension": ".py",
   "mimetype": "text/x-python",
   "name": "python",
   "nbconvert_exporter": "python",
   "pygments_lexer": "ipython3",
   "version": "3.9.13"
  }
 },
 "nbformat": 4,
 "nbformat_minor": 5
}
