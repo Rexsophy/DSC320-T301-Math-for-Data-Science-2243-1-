{
 "cells": [
  {
   "cell_type": "markdown",
   "id": "b59bee63-e369-4e37-a9ac-55d7a1465135",
   "metadata": {},
   "source": [
    "#### Week 11 Exercise 11.2 Author: Rex Gayas Course & Section: DSC320-T301 Math for Data Science (2243-1) Date: 25 February 2024"
   ]
  },
  {
   "cell_type": "markdown",
   "id": "d6becb39-d998-4a78-b8ad-c9ed353d6e87",
   "metadata": {},
   "source": [
    "#### Using the Binomial Distribution"
   ]
  },
  {
   "cell_type": "code",
   "execution_count": 20,
   "id": "9dc462f0-9fd1-4fef-b53b-110f22302edb",
   "metadata": {},
   "outputs": [
    {
     "data": {
      "text/plain": [
       "0.8512830492077245"
      ]
     },
     "execution_count": 20,
     "metadata": {},
     "output_type": "execute_result"
    }
   ],
   "source": [
    "# Solution to 1a\n",
    "from scipy.stats import binom\n",
    "\n",
    "# Given values\n",
    "n_models = 15\n",
    "individual_accuracy = 0.63\n",
    "\n",
    "# Calculate the ensemble model accuracy\n",
    "# Figure out the sum of probabilities from 8 to 15 correct models\n",
    "ensemble_accuracy = sum(binom.pmf(k, n_models, individual_accuracy) for k in range(8, n_models + 1))\n",
    "\n",
    "ensemble_accuracy\n"
   ]
  },
  {
   "cell_type": "markdown",
   "id": "787a4f08-2bc5-4db7-bd97-378107d0cc85",
   "metadata": {},
   "source": [
    "The ensemble model, composed of 15 individual models with an accuracy of 63% each, yields an ensemble accuracy of approximately 85.13%. This calculation sums the probabilities of getting a majority of correct predictions (8 or more out of 15) using the binomial distribution."
   ]
  },
  {
   "cell_type": "code",
   "execution_count": 21,
   "id": "d4738193-f32f-4b9f-9b57-60eedbd88292",
   "metadata": {},
   "outputs": [
    {
     "data": {
      "text/plain": [
       "71"
      ]
     },
     "execution_count": 21,
     "metadata": {},
     "output_type": "execute_result"
    }
   ],
   "source": [
    "# Solution to 1b\n",
    "from scipy.optimize import bisect\n",
    "\n",
    "# Define a function to calculate ensemble accuracy for a given individual model accuracy\n",
    "def ensemble_accuracy(individual_accuracy, n_models=15, threshold=0.95):\n",
    "    # Calculate the probability of the ensemble being correct, which is the sum of\n",
    "    # probabilities from (n_models/2 + 1) to n_models for correct individual predictions\n",
    "    return sum(binom.pmf(k, n_models, individual_accuracy) for k in range(int(n_models/2) + 1, n_models + 1)) - threshold\n",
    "\n",
    "# Find the smallest accuracy such that the ensemble accuracy is at least 95%\n",
    "# Use a binary search method to find the root of the ensemble_accuracy function.\n",
    "individual_accuracy_needed = bisect(lambda p: ensemble_accuracy(p), 0.5, 1.0)\n",
    "\n",
    "# Convert to percentage and round up to the next whole number\n",
    "individual_accuracy_needed_percent = int(100 * individual_accuracy_needed) + 1\n",
    "\n",
    "individual_accuracy_needed_percent\n"
   ]
  },
  {
   "cell_type": "markdown",
   "id": "09a646e1-c226-4edf-ad7a-47e829016052",
   "metadata": {},
   "source": [
    "The accuracy of the 15 individual models would need to be at least 71% for the ensemble model to have at least a 95% accuracy. This is the smallest whole number percentage that satisfies the condition, as calculated using the binomial distribution and finding the root where the ensemble accuracy reaches the threshold."
   ]
  },
  {
   "cell_type": "code",
   "execution_count": 22,
   "id": "cefdab4f-899b-4680-a787-613c68ca1d1b",
   "metadata": {},
   "outputs": [
    {
     "data": {
      "text/plain": [
       "39"
      ]
     },
     "execution_count": 22,
     "metadata": {},
     "output_type": "execute_result"
    }
   ],
   "source": [
    "# Solution to 1c\n",
    "# Find the smallest odd number of models needed for an ensemble model\n",
    "# to have at least 95% accuracy, given each model has 63% accuracy.\n",
    "\n",
    "# Define a function to find the minimum number of models needed for the desired accuracy\n",
    "def find_min_models_for_accuracy(individual_accuracy, desired_accuracy, start_n=3, increment=2):\n",
    "    # Start with the smallest odd number of models\n",
    "    n_models = start_n\n",
    "    while True:\n",
    "        # Calculate the ensemble accuracy for the current number of models\n",
    "        current_accuracy = sum(binom.pmf(k, n_models, individual_accuracy) for k in range(int(n_models/2) + 1, n_models + 1))\n",
    "        # If the current accuracy meets or exceeds the desired accuracy, return the number of models\n",
    "        if current_accuracy >= desired_accuracy:\n",
    "            return n_models\n",
    "        # Increment the number of models by 2 so odd number count is maintained\n",
    "        n_models += increment\n",
    "\n",
    "# Individual model accuracy\n",
    "individual_accuracy = 0.63\n",
    "# Target ensemble accuracy\n",
    "desired_ensemble_accuracy = 0.95\n",
    "\n",
    "# Find the smallest odd number of models needed\n",
    "min_models_needed = find_min_models_for_accuracy(individual_accuracy, desired_ensemble_accuracy)\n",
    "\n",
    "min_models_needed\n"
   ]
  },
  {
   "cell_type": "markdown",
   "id": "7fd10fb7-87f5-41e1-bb2e-e334e2eb784a",
   "metadata": {},
   "source": [
    "To achieve an ensemble accuracy of at least 95% with individual models having an accuracy of 63%, the minimum odd number of models required is 39. This ensures that there is a clear majority in the voting process of the ensemble model."
   ]
  },
  {
   "cell_type": "markdown",
   "id": "b4a65801-84f8-4cc3-8469-83babd4fc242",
   "metadata": {},
   "source": [
    "#### Working with Random Data"
   ]
  },
  {
   "cell_type": "code",
   "execution_count": 23,
   "id": "ba96907b-d41e-42a3-90a0-b4e9d6c99b36",
   "metadata": {},
   "outputs": [
    {
     "data": {
      "text/plain": [
       "(array([1, 2, 3, 4, 5]), array([0.15, 0.25, 0.2 , 0.15, 0.25]), True)"
      ]
     },
     "execution_count": 23,
     "metadata": {},
     "output_type": "execute_result"
    }
   ],
   "source": [
    "# Solution to 2a\n",
    "import numpy as np\n",
    "\n",
    "# Define a new pmf for X with different values\n",
    "# Ensuring the probabilities sum up to 1\n",
    "values = np.array([1, 2, 3, 4, 5])\n",
    "probabilities = np.array([0.15, 0.25, 0.20, 0.15, 0.25])\n",
    "\n",
    "# Validate if it's a proper pmf (probabilities sum up to 1)\n",
    "is_valid_pmf = np.isclose(probabilities.sum(), 1)\n",
    "\n",
    "values, probabilities, is_valid_pmf\n"
   ]
  },
  {
   "cell_type": "markdown",
   "id": "90c490b6-3982-49d7-ad1e-74c4346f2a3f",
   "metadata": {},
   "source": [
    "This distribution is valid because the sum of the probabilities is 1. It represents a scenario where the probabilities are not uniform, with values 2 and 5 having higher likelihood compared to the others."
   ]
  },
  {
   "cell_type": "code",
   "execution_count": 24,
   "id": "391d2e5d-d3d1-43af-a33f-ac427a417da9",
   "metadata": {},
   "outputs": [
    {
     "data": {
      "text/plain": [
       "3.1"
      ]
     },
     "execution_count": 24,
     "metadata": {},
     "output_type": "execute_result"
    }
   ],
   "source": [
    "# Solution to 2b\n",
    "# Define a function to generate 50 random values from the pmf and return the mean\n",
    "def generate_mean_from_pmf(values, probabilities, n=50):\n",
    "    # Generate 50 random indices based on the previous pmf\n",
    "    random_indices = np.random.choice(values, size=n, p=probabilities)\n",
    "    # Calculate the mean of these random values\n",
    "    mean_of_values = np.mean(random_indices)\n",
    "    return mean_of_values\n",
    "\n",
    "# Generate a sample mean from the pmf\n",
    "sample_mean = generate_mean_from_pmf(values, probabilities)\n",
    "\n",
    "sample_mean\n"
   ]
  },
  {
   "cell_type": "markdown",
   "id": "cebdc249-3f1f-446e-9400-edd856bd9ee3",
   "metadata": {},
   "source": [
    "50 random values from the previously defined probability mass function have been generated with a mean of 3.1."
   ]
  },
  {
   "cell_type": "code",
   "execution_count": 25,
   "id": "f2402ccf-eea8-47ac-aab2-d9f0d3d6fe0b",
   "metadata": {},
   "outputs": [
    {
     "data": {
      "text/plain": [
       "[3.22, 3.48, 3.16, 3.1, 3.26, 2.84, 2.74, 2.96, 3.38, 3.28]"
      ]
     },
     "execution_count": 25,
     "metadata": {},
     "output_type": "execute_result"
    }
   ],
   "source": [
    "# Solution to 2c\n",
    "# Define a function to run the previously defined function 1000 times\n",
    "# and store the means in a list\n",
    "def simulate_means(values, probabilities, simulations=1000, n=50):\n",
    "    means_list = [generate_mean_from_pmf(values, probabilities, n) for _ in range(simulations)]\n",
    "    return means_list\n",
    "\n",
    "# Run the simulation\n",
    "means_list = simulate_means(values, probabilities)\n",
    "\n",
    "# Show the first 10 means as a sample\n",
    "means_list[:10]\n"
   ]
  },
  {
   "cell_type": "markdown",
   "id": "69c26167-c861-4cea-805a-53328326808b",
   "metadata": {},
   "source": [
    "A function has been implemented to simulate the generation of 50 random values from the pmf 1,000 times and calculate their means. The first 10 sample means from this simulation are listed above."
   ]
  },
  {
   "cell_type": "code",
   "execution_count": 26,
   "id": "81be3f68-09de-4d12-b34f-deee0557ee9e",
   "metadata": {},
   "outputs": [
    {
     "data": {
      "image/png": "[encoded data removed]",
      "text/plain": [
       "<Figure size 1000x600 with 1 Axes>"
      ]
     },
     "metadata": {},
     "output_type": "display_data"
    }
   ],
   "source": [
    "# Solution to 2d\n",
    "import matplotlib.pyplot as plt\n",
    "\n",
    "# Create a histogram of the means from the simulation in 2(c)\n",
    "plt.figure(figsize=(10, 6))\n",
    "plt.hist(means_list, bins=20, color='blue', edgecolor='black', alpha=0.7)\n",
    "plt.title('Histogram of Sample Means')\n",
    "plt.xlabel('Sample Mean')\n",
    "plt.ylabel('Frequency')\n",
    "\n",
    "# Display the histogram\n",
    "plt.show()\n"
   ]
  },
  {
   "cell_type": "markdown",
   "id": "2f822e27-1575-42f4-b488-7d8fd83f2515",
   "metadata": {},
   "source": [
    "Above is the histogram of the sample means from the 1,000 simulations. The histogram appears to be normally distributed, which aligns with the Central Limit Theorem (CLT). The CLT states that the distribution of sample means will tend to be normal regardless of the shape of the population distribution, provided the sample size is large enough."
   ]
  },
  {
   "cell_type": "code",
   "execution_count": 27,
   "id": "baead3ca-526f-48c7-8c45-0b9f3004a659",
   "metadata": {},
   "outputs": [
    {
     "data": {
      "text/plain": [
       "(3.1037199999999996, 0.1889628577260621, 3.1, 1.4106735979665883)"
      ]
     },
     "execution_count": 27,
     "metadata": {},
     "output_type": "execute_result"
    }
   ],
   "source": [
    "# Solution to 2e\n",
    "# Calculate the mean and standard deviation of the list of means\n",
    "mean_of_means = np.mean(means_list)\n",
    "std_of_means = np.std(means_list)\n",
    "\n",
    "# Theoretical mean and standard deviation of the original distribution\n",
    "theoretical_mean = np.sum(values * probabilities)\n",
    "# The standard deviation of a distribution is the square root of its variance\n",
    "theoretical_variance = np.sum(((values - theoretical_mean)**2) * probabilities)\n",
    "theoretical_std = np.sqrt(theoretical_variance)\n",
    "\n",
    "mean_of_means, std_of_means, theoretical_mean, theoretical_std\n"
   ]
  },
  {
   "cell_type": "markdown",
   "id": "34a0c454-ef54-4cb1-b62a-43ead9db34ee",
   "metadata": {},
   "source": [
    "The mean of the list of means from the 1,000 simulations is approximately 3.104, and the standard deviation is about 0.1890. The theoretical values, based on the original pmf, are a mean of 3.1 and a standard deviation of approximately 1.411."
   ]
  },
  {
   "cell_type": "markdown",
   "id": "dff1e716-970c-4f7c-8c8c-107d9925e65e",
   "metadata": {},
   "source": [
    "The observed mean of the sample means is very close to the theoretical mean, which is expected according to the Law of Large Numbers. The Law states that as the number of trials increases, the average of the outcomes will converge to the expected value. The standard deviation of the sample means is lower than the population's, which illustrates the concept of standard error decreasing as sample size increases"
   ]
  }
 ],
 "metadata": {
  "kernelspec": {
   "display_name": "Python 3 (ipykernel)",
   "language": "python",
   "name": "python3"
  },
  "language_info": {
   "codemirror_mode": {
    "name": "ipython",
    "version": 3
   },
   "file_extension": ".py",
   "mimetype": "text/x-python",
   "name": "python",
   "nbconvert_exporter": "python",
   "pygments_lexer": "ipython3",
   "version": "3.9.18"
  }
 },
 "nbformat": 4,
 "nbformat_minor": 5
}
