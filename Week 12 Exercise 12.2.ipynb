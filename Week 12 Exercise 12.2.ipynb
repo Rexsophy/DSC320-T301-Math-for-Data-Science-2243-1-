{
 "cells": [
  {
   "cell_type": "markdown",
   "id": "c8690451-bead-4af1-a5d8-4245c1727c1e",
   "metadata": {},
   "source": [
    "#### Week 12 Exercise 12.2 Author: Rex Gayas Course & Section: DSC320-T301 Math for Data Science (2243-1) Date: 02 March 2024"
   ]
  },
  {
   "cell_type": "markdown",
   "id": "bd71ccb2-45a1-46cb-b69a-a083270efc96",
   "metadata": {},
   "source": [
    "#### Calculating Probabilities using Bayes’ Theorem "
   ]
  },
  {
   "cell_type": "code",
   "execution_count": 4,
   "id": "3f784c89-3a01-4732-88b4-bbac0cd7607b",
   "metadata": {},
   "outputs": [
    {
     "data": {
      "text/plain": [
       "51.724137931034484"
      ]
     },
     "execution_count": 4,
     "metadata": {},
     "output_type": "execute_result"
    }
   ],
   "source": [
    "# Solution to 1a.\n",
    "# Given probabilities\n",
    "P_A = 0.5\n",
    "P_Def_A = 0.03\n",
    "P_B = 0.3\n",
    "P_Def_B = 0.02\n",
    "P_C = 0.2\n",
    "P_Def_C = 0.04\n",
    "\n",
    "# Calculate P(Defective)\n",
    "P_Defective = (P_A * P_Def_A) + (P_B * P_Def_B) + (P_C * P_Def_C)\n",
    "\n",
    "# Calculate P(A|Defective) using Bayes' Theorem\n",
    "P_A_Given_Defective = (P_Def_A * P_A) / P_Defective\n",
    "\n",
    "# Convert the probability to a percentage\n",
    "P_A_Given_Defective_Percentage = P_A_Given_Defective * 100\n",
    "\n",
    "P_A_Given_Defective_Percentage"
   ]
  },
  {
   "cell_type": "code",
   "execution_count": 5,
   "id": "5e90aa15-965a-4cfa-9293-d4f23d6b46b5",
   "metadata": {},
   "outputs": [
    {
     "data": {
      "text/plain": [
       "19.77342945417096"
      ]
     },
     "execution_count": 5,
     "metadata": {},
     "output_type": "execute_result"
    }
   ],
   "source": [
    "# Solution to 1b. \n",
    "# Given probabilities for non-defective\n",
    "P_NotDef_A = 0.97\n",
    "P_NotDef_B = 0.98\n",
    "P_NotDef_C = 0.96\n",
    "\n",
    "# Calculate P(Not Defective)\n",
    "P_NotDefective = (P_A * P_NotDef_A) + (P_B * P_NotDef_B) + (P_C * P_NotDef_C)\n",
    "\n",
    "# Calculate P(C|Not Defective) using Bayes' Theorem\n",
    "P_C_Given_NotDefective = (P_NotDef_C * P_C) / P_NotDefective\n",
    "\n",
    "# Convert the probability to a percentage\n",
    "P_C_Given_NotDefective_Percentage = P_C_Given_NotDefective * 100\n",
    "\n",
    "P_C_Given_NotDefective_Percentage\n"
   ]
  },
  {
   "cell_type": "markdown",
   "id": "184ff7e5-fefb-475b-8795-13d764e7a6b3",
   "metadata": {},
   "source": [
    "#### Entropy Function for a Probability Distribution "
   ]
  },
  {
   "cell_type": "code",
   "execution_count": 7,
   "id": "5e435358-c903-4963-bc60-c03d19f32a40",
   "metadata": {},
   "outputs": [],
   "source": [
    "# Solution to 2.\n",
    "import math\n",
    "\n",
    "def calculate_entropy(probabilities):\n",
    "    \"\"\"\n",
    "    Calculate the entropy of a probability distribution.\n",
    "\n",
    "    Parameters:\n",
    "    probabilities (list): A list of probabilities for a discrete probability distribution.\n",
    "\n",
    "    Returns:\n",
    "    float: The entropy of the distribution.\n",
    "    \"\"\"\n",
    "    # Calculate the entropy using the Shannon entropy formula\n",
    "    entropy = -sum(p * math.log2(p) for p in probabilities if p > 0)\n",
    "    return entropy\n"
   ]
  },
  {
   "cell_type": "markdown",
   "id": "bc1833e8-e454-4530-8adc-46af115f27ef",
   "metadata": {},
   "source": [
    "#### Calculating Entropies of Probability Distributions\r"
   ]
  },
  {
   "cell_type": "code",
   "execution_count": 8,
   "id": "b00bd50f-65a9-4a8e-89c0-4c8df0531c25",
   "metadata": {},
   "outputs": [
    {
     "data": {
      "text/plain": [
       "(2.321928094887362, 2.046439344671015)"
      ]
     },
     "execution_count": 8,
     "metadata": {},
     "output_type": "execute_result"
    }
   ],
   "source": [
    "# Solution to 3a. \n",
    "# Extracting the given probabilities for random variables X and Y \n",
    "probabilities_X = [0.2, 0.2, 0.2, 0.2, 0.2] # Given P(X = x)\n",
    "probabilities_Y = [0.1, 0.4, 0.1, 0.3, 0.1] # Given P(Y = y)\n",
    "\n",
    "# Using the previously defined function to calculate the entropy of X and Y\n",
    "entropy_X = calculate_entropy(probabilities_X)\n",
    "entropy_Y = calculate_entropy(probabilities_Y)\n",
    "\n",
    "entropy_X, entropy_Y\n"
   ]
  },
  {
   "cell_type": "markdown",
   "id": "003aa439-ca96-42b9-9622-a6689300874f",
   "metadata": {},
   "source": [
    "Solution to 3b.\n",
    "The entropy of random variable X is approximately 2.322, and the entropy of random variable Y is approximately 2.046. \n",
    "The entropy of X is larger than the entropy of Y. Intuitively, this is because X has a uniform distribution, meaning each outcome is equally likely, which represents a state of maximum uncertainty and therefore maximum entropy. On the other hand, Y has a non-uniform distribution, with some outcomes being more probable than others, indicating less uncertainty and therefore lower entropy."
   ]
  },
  {
   "cell_type": "code",
   "execution_count": null,
   "id": "56793079-9c89-4e6a-bd8f-65ce54fd9e15",
   "metadata": {},
   "outputs": [],
   "source": []
  }
 ],
 "metadata": {
  "kernelspec": {
   "display_name": "Python 3 (ipykernel)",
   "language": "python",
   "name": "python3"
  },
  "language_info": {
   "codemirror_mode": {
    "name": "ipython",
    "version": 3
   },
   "file_extension": ".py",
   "mimetype": "text/x-python",
   "name": "python",
   "nbconvert_exporter": "python",
   "pygments_lexer": "ipython3",
   "version": "3.9.18"
  }
 },
 "nbformat": 4,
 "nbformat_minor": 5
}
